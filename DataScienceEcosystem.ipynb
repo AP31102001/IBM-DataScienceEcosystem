{
 "cells": [
  {
   "cell_type": "markdown",
   "id": "57951aae",
   "metadata": {},
   "source": [
    "#  Data Science Tools an Ecosystem"
   ]
  },
  {
   "cell_type": "markdown",
   "id": "bd11d264",
   "metadata": {},
   "source": [
    "In this notebook,Data Science Tools an Ecosystem are summaried. "
   ]
  },
  {
   "cell_type": "markdown",
   "id": "0a2e600a",
   "metadata": {},
   "source": [
    "__Objective:__\n",
    "- List popular languages that Data Scientists use.\n",
    "- List commonly used libraries used by Data Scientists.\n",
    "- Comment on Data Science Tools."
   ]
  },
  {
   "cell_type": "markdown",
   "id": "998de163",
   "metadata": {},
   "source": [
    "Some of the popular languages that Data Science use are:\n",
    "\n",
    "1. Python\n",
    "2. R\n",
    "3. SQL\n",
    "4. Java\n",
    "5. JavaScript\n",
    "6. Julia\n"
   ]
  },
  {
   "cell_type": "markdown",
   "id": "bb042adb",
   "metadata": {},
   "source": [
    "Some of the commonly use libraries used by Data Scientists inclue:\n",
    "\n",
    "1. NumPy\n",
    "2. Pandas\n",
    "3. Matplotlib\n",
    "4. SciPy\n",
    "5. TensorFlow\n",
    "6. Keras\n",
    "7. SciKit-Learn\n",
    "8. Scrapy\n",
    "9. LightGBM\n",
    "10. BeautifulSoup"
   ]
  },
  {
   "cell_type": "markdown",
   "id": "f1996e0d",
   "metadata": {},
   "source": [
    "Data Science Tools:\n",
    "\n",
    "|Data Science Tools|\n",
    "|-----------|\n",
    "|SAS|\n",
    "|Apache|\n",
    "|Spark|\n",
    "|BigML|"
   ]
  },
  {
   "cell_type": "markdown",
   "id": "bcf07ab5",
   "metadata": {},
   "source": [
    "### Below are few examples of evaluating arithmetic expressions in python:\n"
   ]
  },
  {
   "cell_type": "code",
   "execution_count": 7,
   "id": "5e3c1a78",
   "metadata": {},
   "outputs": [
    {
     "name": "stdout",
     "output_type": "stream",
     "text": [
      "17\n"
     ]
    }
   ],
   "source": [
    "#Arithmetic oprations\n",
    "#This is simple arithmetic expression to multiply then add integers\n",
    "import math \n",
    "a=(3*4)+5\n",
    "print(a)"
   ]
  },
  {
   "cell_type": "code",
   "execution_count": 9,
   "id": "c496192b",
   "metadata": {},
   "outputs": [
    {
     "name": "stdout",
     "output_type": "stream",
     "text": [
      "Hours 3.3333333333333335\n"
     ]
    }
   ],
   "source": [
    "#This will covert 200 minutes to hours by diving by 60\n",
    "Minutes=200\n",
    "Hours=Minutes/60\n",
    "print(\"Hours\",Hours)"
   ]
  },
  {
   "cell_type": "markdown",
   "id": "3e724cb7",
   "metadata": {},
   "source": [
    "## Author\n",
    "Patel Ayush"
   ]
  },
  {
   "cell_type": "code",
   "execution_count": null,
   "id": "24cf8ccb",
   "metadata": {},
   "outputs": [],
   "source": []
  }
 ],
 "metadata": {
  "kernelspec": {
   "display_name": "Python 3 (ipykernel)",
   "language": "python",
   "name": "python3"
  },
  "language_info": {
   "codemirror_mode": {
    "name": "ipython",
    "version": 3
   },
   "file_extension": ".py",
   "mimetype": "text/x-python",
   "name": "python",
   "nbconvert_exporter": "python",
   "pygments_lexer": "ipython3",
   "version": "3.9.7"
  }
 },
 "nbformat": 4,
 "nbformat_minor": 5
}
